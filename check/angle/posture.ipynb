{
 "cells": [
  {
   "cell_type": "code",
   "execution_count": 2,
   "metadata": {},
   "outputs": [],
   "source": [
    "import cv2\n",
    "import csv\n",
    "from cv2 import destroyAllWindows\n",
    "import mediapipe as mp\n",
    "import numpy as np\n",
    "import pandas as pd\n",
    "mp_drawing = mp.solutions.drawing_utils\n",
    "mp_drawing_styles = mp.solutions.drawing_styles\n",
    "mp_pose = mp.solutions.pose"
   ]
  },
  {
   "cell_type": "code",
   "execution_count": 3,
   "metadata": {},
   "outputs": [],
   "source": [
    "def calculate_angle(a, b, c):\n",
    "    a = np.array(a)  \n",
    "    b = np.array(b)  \n",
    "    c = np.array(c)  \n",
    "    radians = np.arctan2(c[1]-b[1], c[0]-b[0]) - \\\n",
    "        np.arctan2(a[1]-b[1], a[0]-b[0])\n",
    "    angle = np.abs(radians*180.0/np.pi)\n",
    "    if angle > 180.0:\n",
    "        angle = 360-angle\n",
    "    return angle"
   ]
  },
  {
   "cell_type": "code",
   "execution_count": 4,
   "metadata": {},
   "outputs": [],
   "source": [
    "import math\n",
    "def get_distance(x,y):\n",
    "    distance = math.sqrt((x[0]-y[0])**2 + (x[1]-y[1])**2)\n",
    "    return distance * 100"
   ]
  },
  {
   "cell_type": "code",
   "execution_count": 5,
   "metadata": {},
   "outputs": [],
   "source": [
    "def rescale_frame(frame, percent=50):\n",
    "    width = int(frame.shape[1] * percent / 100)\n",
    "    height = int(frame.shape[0] * percent / 100)\n",
    "    dim = (width, height)\n",
    "    return cv2.resize(frame, dim, interpolation=cv2.INTER_AREA)"
   ]
  },
  {
   "cell_type": "code",
   "execution_count": null,
   "metadata": {},
   "outputs": [],
   "source": [
    "\n",
    "\n",
    "cap = cv2.VideoCapture(\"hel.mp4\")\n",
    "stage = \"Analyzing\"\n",
    "\n",
    "\n",
    "width = int(cap.get(cv2.CAP_PROP_FRAME_WIDTH) + 0.5)\n",
    "height = int(cap.get(cv2.CAP_PROP_FRAME_HEIGHT) + 0.5)\n",
    "size = (640, 480)\n",
    "fourcc = cv2.VideoWriter_fourcc(*'MP4V')\n",
    "out = cv2.VideoWriter('output_video_.mp4', fourcc, 24, size)\n",
    "\n",
    "with mp_pose.Pose(min_detection_confidence=0.5, min_tracking_confidence=0.5) as pose:\n",
    "    while cap.isOpened():\n",
    "        ret, frame = cap.read()\n",
    "        if frame is not None:\n",
    "            frame_ = rescale_frame(frame, percent=150)\n",
    "\n",
    "        # Recolor image to RGB\n",
    "        image = cv2.cvtColor(frame_, cv2.COLOR_BGR2RGB)\n",
    "        image.flags.writeable = False\n",
    "\n",
    "        # Make detection\n",
    "        results = pose.process(image)\n",
    "\n",
    "        # Recolor back to BGR\n",
    "        image.flags.writeable = True\n",
    "        image = cv2.cvtColor(image, cv2.COLOR_RGB2BGR)\n",
    "\n",
    "        # Extract landmarks\n",
    "        try:\n",
    "            landmarks = results.pose_landmarks.landmark\n",
    "\n",
    "            # Get coordinates\n",
    "            shoulder = [landmarks[mp_pose.PoseLandmark.LEFT_SHOULDER.value].x,\n",
    "                        landmarks[mp_pose.PoseLandmark.LEFT_SHOULDER.value].y]\n",
    "            elbow = [landmarks[mp_pose.PoseLandmark.LEFT_ELBOW.value].x,\n",
    "                     landmarks[mp_pose.PoseLandmark.LEFT_ELBOW.value].y]\n",
    "            wrist = [landmarks[mp_pose.PoseLandmark.LEFT_WRIST.value].x,\n",
    "                     landmarks[mp_pose.PoseLandmark.LEFT_WRIST.value].y]\n",
    "            hip = [landmarks[mp_pose.PoseLandmark.LEFT_HIP.value].x,\n",
    "                   landmarks[mp_pose.PoseLandmark.LEFT_HIP.value].y]\n",
    "            knee = [landmarks[mp_pose.PoseLandmark.LEFT_KNEE.value].x,\n",
    "                    landmarks[mp_pose.PoseLandmark.LEFT_KNEE.value].y]\n",
    "            ankle = [landmarks[mp_pose.PoseLandmark.LEFT_ANKLE.value].x,\n",
    "                     landmarks[mp_pose.PoseLandmark.LEFT_ANKLE.value].y]\n",
    "            foot_index = [landmarks[mp_pose.PoseLandmark.LEFT_FOOT_INDEX.value].x,\n",
    "                            landmarks[mp_pose.PoseLandmark.LEFT_FOOT_INDEX.value].y]\n",
    "\n",
    "            shoulder_r = [landmarks[mp_pose.PoseLandmark.RIGHT_SHOULDER.value].x,\n",
    "                        landmarks[mp_pose.PoseLandmark.RIGHT_SHOULDER.value].y]\n",
    "            elbow_r = [landmarks[mp_pose.PoseLandmark.RIGHT_ELBOW.value].x,\n",
    "                        landmarks[mp_pose.PoseLandmark.RIGHT_ELBOW.value].y]\n",
    "            wrist_r = [landmarks[mp_pose.PoseLandmark.RIGHT_WRIST.value].x,\n",
    "                    landmarks[mp_pose.PoseLandmark.RIGHT_WRIST.value].y]\n",
    "            hip_r = [landmarks[mp_pose.PoseLandmark.RIGHT_HIP.value].x,\n",
    "                landmarks[mp_pose.PoseLandmark.RIGHT_HIP.value].y]\n",
    "            knee_r = [landmarks[mp_pose.PoseLandmark.RIGHT_KNEE.value].x,\n",
    "                    landmarks[mp_pose.PoseLandmark.RIGHT_KNEE.value].y]\n",
    "            ankle_r = [landmarks[mp_pose.PoseLandmark.RIGHT_ANKLE.value].x,\n",
    "                    landmarks[mp_pose.PoseLandmark.RIGHT_ANKLE.value].y]\n",
    "            foot_index_r = [landmarks[mp_pose.PoseLandmark.RIGHT_FOOT_INDEX.value].x,\n",
    "                    landmarks[mp_pose.PoseLandmark.RIGHT_FOOT_INDEX.value].y]\n",
    "            # Calculate angle\n",
    "            elbow = calculate_angle(shoulder, elbow, wrist)\n",
    "            elbow_r = calculate_angle(shoulder_r, elbow_r, wrist_r)\n",
    "            angle_knee = calculate_angle(hip, knee, ankle)  \n",
    "            angle_knee = round(angle_knee, 2)\n",
    "            angle_knee_r = calculate_angle(hip_r, knee_r, ankle_r)\n",
    "            angle_knee_r = round(angle_knee_r, 2)\n",
    "            angle_hip = calculate_angle(shoulder, hip, knee)\n",
    "            angle_hip = round(angle_hip, 2)\n",
    "            angle_hip_r = calculate_angle(shoulder_r, hip_r, knee_r)\n",
    "            angle_hip_r = round(angle_hip_r, 2)\n",
    "            angle_ankle = calculate_angle(knee, ankle, foot_index)\n",
    "            angle_ankle = round(angle_ankle, 2)\n",
    "            angle_ankle_r = calculate_angle(knee_r, ankle_r, foot_index_r)\n",
    "            angle_ankle_r = round(angle_ankle_r, 2)\n",
    "            elbow = round(elbow, 2)\n",
    "            elbow_r = round(elbow_r, 2)\n",
    "            hip_angle = 180-angle_hip\n",
    "            knee_angle = 180-angle_knee\n",
    "            ankle_angle = 180-angle_ankle\n",
    "            hip_angle_r = 180-angle_hip_r\n",
    "            knee_angle_r = 180-angle_knee_r\n",
    "            ankle_angle_r = 180-angle_ankle_r\n",
    "\n",
    "            # step length\n",
    "            step_length = get_distance(ankle, ankle_r)\n",
    "            step_length = round(step_length, 2)\n",
    "            # csv\n",
    "            with open('Pos.csv', 'a+') as csvFile:\n",
    "                # store float values\n",
    "                writer = csv.writer(csvFile)\n",
    "                writer.writerow([angle_knee, angle_knee_r, angle_hip, angle_hip_r, angle_ankle, angle_ankle_r,elbow, elbow_r, step_length])\n",
    "        except:\n",
    "            pass\n",
    "\n",
    "        # Setup status box\n",
    "        cv2.rectangle(image, (20,20), (200,90), (0,0,0), -1)\n",
    "\n",
    "        cv2.rectangle(image, (20, 20), (200, 100), (255, 255, 255), -1)\n",
    "\n",
    "        # Hip angle:\n",
    "        cv2.putText(image, \"Hip-joint angle : \" + str(angle_hip),\n",
    "                    (30, 95),\n",
    "                    cv2.FONT_HERSHEY_SIMPLEX, 0.4, (0, 0, 0), 1, cv2.LINE_AA)\n",
    "\n",
    "        # Knee angle:\n",
    "        cv2.putText(image, \"Knee-joint angle : \" + str(angle_knee),\n",
    "                    (30, 75),\n",
    "                    cv2.FONT_HERSHEY_SIMPLEX, 0.4, (0, 0, 0), 1, cv2.LINE_AA)\n",
    "\n",
    "        # ankle angle:\n",
    "        cv2.putText(image, \"ankle-joint angle : \" + str(angle_ankle),\n",
    "                    (30, 55),\n",
    "                    cv2.FONT_HERSHEY_SIMPLEX, 0.4, (0, 0, 0), 1, cv2.LINE_AA)\n",
    "\n",
    "        cv2.putText(image, \"Stage : \" + str(stage),\n",
    "                    (30, 35),\n",
    "                    cv2.FONT_HERSHEY_SIMPLEX, 0.4, (0, 0, 0), 1, cv2.LINE_AA)\n",
    "\n",
    "        # Render detections\n",
    "        mp_drawing.draw_landmarks(image, results.pose_landmarks, mp_pose.POSE_CONNECTIONS,\n",
    "                                  mp_drawing.DrawingSpec(\n",
    "                                      color=(0, 0, 255), thickness=2, circle_radius=1),\n",
    "                                  mp_drawing.DrawingSpec(\n",
    "                                      color=(0, 255, 0), thickness=2, circle_radius=1)\n",
    "                                  )\n",
    "\n",
    "        out.write(image)\n",
    "        cv2.imshow('Pose & angle Frame', image)\n",
    "        # destroy all windows in 22 seconds\n",
    "        if cv2.waitKey(22) & 0xFF == ord('q'):\n",
    "            cap.release()\n",
    "            out.release()\n",
    "            cv2.destroyAllWindows()\n",
    "            break\n",
    "    cap.release()\n",
    "    out.release()\n",
    "    cv2.destroyAllWindows()\n"
   ]
  },
  {
   "cell_type": "code",
   "execution_count": null,
   "metadata": {},
   "outputs": [],
   "source": [
    "load_csv = pd.read_csv('Pos.csv')"
   ]
  },
  {
   "cell_type": "code",
   "execution_count": null,
   "metadata": {},
   "outputs": [],
   "source": [
    "check_data = pd.read_csv('angle_dc_mean_mean.csv')"
   ]
  },
  {
   "cell_type": "code",
   "execution_count": null,
   "metadata": {},
   "outputs": [
    {
     "data": {
      "text/plain": [
       "knee           161.292516\n",
       "knee_r         166.702258\n",
       "hip            171.346532\n",
       "hip_r          173.677645\n",
       "ankle          130.672742\n",
       "ankle_r        131.009323\n",
       "elbow          170.810000\n",
       "elbow_r        173.756290\n",
       "step_length     11.908774\n",
       "dtype: float64"
      ]
     },
     "execution_count": 17,
     "metadata": {},
     "output_type": "execute_result"
    }
   ],
   "source": [
    "new = load_csv.mean()\n",
    "new"
   ]
  },
  {
   "cell_type": "code",
   "execution_count": null,
   "metadata": {},
   "outputs": [],
   "source": [
    "new.knee"
   ]
  }
 ],
 "metadata": {
  "kernelspec": {
   "display_name": "Python 3.10.4 64-bit",
   "language": "python",
   "name": "python3"
  },
  "language_info": {
   "codemirror_mode": {
    "name": "ipython",
    "version": 3
   },
   "file_extension": ".py",
   "mimetype": "text/x-python",
   "name": "python",
   "nbconvert_exporter": "python",
   "pygments_lexer": "ipython3",
   "version": "3.10.4"
  },
  "orig_nbformat": 4,
  "vscode": {
   "interpreter": {
    "hash": "2bc555d4404cb76c05abf652b46a3ff7311252ed528c07b449819f2d141a7c7f"
   }
  }
 },
 "nbformat": 4,
 "nbformat_minor": 2
}
